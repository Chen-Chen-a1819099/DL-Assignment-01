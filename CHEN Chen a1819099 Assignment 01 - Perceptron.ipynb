{
 "cells": [
  {
   "cell_type": "markdown",
   "id": "67859af2-39cc-46ee-990b-967bdc6994af",
   "metadata": {},
   "source": [
    "# Assignment 01 - Perceptron"
   ]
  },
  {
   "cell_type": "code",
   "execution_count": 1,
   "id": "3e37d88f-1227-4796-b14e-d5d0157a5616",
   "metadata": {},
   "outputs": [],
   "source": [
    "import torch\n",
    "import numpy as np\n",
    "import matplotlib.pyplot as plt\n",
    "from sklearn.datasets import make_blobs"
   ]
  },
  {
   "cell_type": "code",
   "execution_count": 2,
   "id": "ceaa0145-d1d1-4200-887e-7a4db6ea151e",
   "metadata": {},
   "outputs": [],
   "source": [
    "# Data preprocessing\n",
    "dia_data_list = []\n",
    "with open('Data.txt', encoding=\"utf-8\") as f:\n",
    "    for line in f:\n",
    "        line = line.replace('1:','').replace('2:','').replace('3:','').replace('4:','').replace('5:','').replace('6:','').replace('7:','').replace('8:','').replace('\\n','').replace('  ',' ')\n",
    "        line = line.split(' ')\n",
    "        line.append(1.0)           # append a '1' corresponding to b\n",
    "        dia_data_list.append(list(map(float,line)))"
   ]
  },
  {
   "cell_type": "code",
   "execution_count": 3,
   "id": "d9d5a3a8-871f-4a8c-97ea-be9dc77c9d78",
   "metadata": {},
   "outputs": [
    {
     "data": {
      "text/plain": [
       "tensor([[ -1.0000,   6.0000, 148.0000,  ...,   0.6270,  50.0000,   1.0000],\n",
       "        [  1.0000,   1.0000,  85.0000,  ...,   0.3510,  31.0000,   1.0000],\n",
       "        [ -1.0000,   8.0000, 183.0000,  ...,   0.6720,  32.0000,   1.0000],\n",
       "        ...,\n",
       "        [  1.0000,   5.0000, 121.0000,  ...,   0.2450,  30.0000,   1.0000],\n",
       "        [ -1.0000,   1.0000, 126.0000,  ...,   0.3490,  47.0000,   1.0000],\n",
       "        [  1.0000,   1.0000,  93.0000,  ...,   0.3150,  23.0000,   1.0000]])"
      ]
     },
     "execution_count": 3,
     "metadata": {},
     "output_type": "execute_result"
    }
   ],
   "source": [
    "dia_data = torch.tensor(dia_data_list)\n",
    "dia_data"
   ]
  },
  {
   "cell_type": "markdown",
   "id": "43487aa0-6377-42a9-a338-6bd0eb976a5d",
   "metadata": {},
   "source": [
    "## 1.  Preliminary Experiment"
   ]
  },
  {
   "cell_type": "code",
   "execution_count": 4,
   "id": "2391258b-9c3b-4ec6-9800-5ed8e50ebf4d",
   "metadata": {},
   "outputs": [],
   "source": [
    "X, y = make_blobs(100, n_features=2, centers = [(5,5), (10,10)], random_state = 1)   # generate a linearly separable dataset"
   ]
  },
  {
   "cell_type": "code",
   "execution_count": 5,
   "id": "a3629b53-8000-402e-94c9-2e89c210d1da",
   "metadata": {},
   "outputs": [],
   "source": [
    "zeros = np.ones(100).reshape(100,1)           # add a column of '1' corresponding to b\n",
    "X = np.concatenate([X, zeros], axis = 1)"
   ]
  },
  {
   "cell_type": "code",
   "execution_count": 6,
   "id": "5de32232-01a3-4ef0-a035-420670b57c69",
   "metadata": {},
   "outputs": [],
   "source": [
    "X_train = torch.from_numpy(X)\n",
    "y_train = torch.from_numpy(y).double().reshape(100,1)\n",
    "y_train[y_train==0]=-1    # replace 0 in labels by -1\n",
    "lr = 1                    # set learning rate to be 1\n",
    "T = 1000                  # set iter T as 1000"
   ]
  },
  {
   "cell_type": "markdown",
   "id": "dfa7cb5c-aac6-41e8-b647-d224276a2211",
   "metadata": {},
   "source": [
    "### 1.1  Sum Method"
   ]
  },
  {
   "cell_type": "code",
   "execution_count": 7,
   "id": "2b94bb2e-8b19-4999-a1ad-1632dafbc95e",
   "metadata": {
    "tags": []
   },
   "outputs": [
    {
     "name": "stdout",
     "output_type": "stream",
     "text": [
      "number of iterations: 203\n"
     ]
    }
   ],
   "source": [
    "w_SUM = torch.zeros(3, dtype=float).reshape(3,1)\n",
    "loss_SUM = []                                             # list of loss\n",
    "mis_list_SUM = []                                         # list of the number of misclassified points\n",
    "iter_count = 0\n",
    "for i in range(T):\n",
    "    iter_count += 1\n",
    "    dist = (y_train * (X_train @ w_SUM)).double().reshape(100,1)            # X @ w * y, a vec of all distances to the plane\n",
    "    indi_vec = (torch.where(dist<=0, 1.0, 0.0)).double().reshape(1,100)     # misclassified points should have negative dist\n",
    "    loss = (-1) * (indi_vec @ dist)    # select all misclassified points and add the dists of them up, i.e. ∑yi(xi@w),i∈mis\n",
    "    grad = ((-1) * (indi_vec @ (y_train * X_train))).reshape(3,1)        # loss=∑yi(xi@w), ∂L/∂w=grad=∑yixi,i∈mis (Li, 2022)\n",
    "    loss_SUM.append(float(loss))\n",
    "    mis_list_SUM.append(int(torch.sum(indi_vec)))         # number of misclassified points\n",
    "\n",
    "    w_new = w_SUM - lr * grad\n",
    "    if torch.all(w_SUM == w_new):                         # if w_SUM == w_new\n",
    "        print('number of iterations:', iter_count)        # break\n",
    "        break\n",
    "    w_SUM = w_new                                         # else, continue\n",
    "loss_SUM.pop(0)                                           # pop the initial loss and mis_list calculated by w=0\n",
    "mis_list_SUM.pop(0);"
   ]
  },
  {
   "cell_type": "markdown",
   "id": "004cefeb-85bc-4918-8eb8-d764605598ee",
   "metadata": {},
   "source": [
    "### 1.2  GD1 Method"
   ]
  },
  {
   "cell_type": "code",
   "execution_count": 8,
   "id": "f07dbf22-a421-4185-b5dd-97a89e328e29",
   "metadata": {},
   "outputs": [
    {
     "name": "stdout",
     "output_type": "stream",
     "text": [
      "number of iterations: 95\n"
     ]
    }
   ],
   "source": [
    "w_GD1 = torch.zeros(3, dtype=float).reshape(3,1)\n",
    "loss_GD1 = []\n",
    "mis_list_GD1 = []\n",
    "curr_i = []\n",
    "iter_count = 0\n",
    "for i in range(T):\n",
    "    iter_count += 1                                        # the following is similar to the Sum method\n",
    "    dist = (y_train * (X_train @ w_GD1)).double().reshape(100,1)     \n",
    "    indi_vec = (torch.where(dist<=0, 1.0, 0.0)).double().reshape(1,100)\n",
    "    loss = (-1) * (indi_vec @ dist)\n",
    "    loss_GD1.append(float(loss))\n",
    "    mis_list_GD1.append(int(torch.sum(indi_vec)))\n",
    "    curr_i.append(i)\n",
    "    if torch.all(indi_vec == 0):                           # if there is no misclassified points\n",
    "        print('number of iterations:',iter_count)          # break\n",
    "        break\n",
    "    else:                                           \n",
    "        i = int(torch.where(indi_vec.squeeze()==1)[0][0])  # else take the first misclassified point\n",
    " \n",
    "    grad = ((-1) * y_train[i] * X_train[i]).reshape(3,1)   # calculate gradient only for that point\n",
    "    w_new = w_GD1 - lr * grad                              # update w\n",
    "    w_GD1 = w_new\n",
    "loss_GD1.pop(0)\n",
    "mis_list_GD1.pop(0);"
   ]
  },
  {
   "cell_type": "markdown",
   "id": "403b5c8e-69fe-4c72-a678-b870b47cd343",
   "metadata": {},
   "source": [
    "### 1.3  SGD Method"
   ]
  },
  {
   "cell_type": "code",
   "execution_count": 9,
   "id": "07bc8b4c-7418-40da-8068-23e861636c71",
   "metadata": {},
   "outputs": [
    {
     "name": "stdout",
     "output_type": "stream",
     "text": [
      "number of iterations: 91\n"
     ]
    }
   ],
   "source": [
    "w_SGD = torch.zeros(3, dtype=float).reshape(3,1)\n",
    "\n",
    "loss_SGD = []\n",
    "mis_list_SGD = []\n",
    "curr_i = []\n",
    "iter_count = 0\n",
    "for i in range(T):\n",
    "    iter_count += 1                                        # the following is similar to the GD1 method\n",
    "    dist = (y_train * (X_train @ w_SGD)).double().reshape(100,1)     \n",
    "    indi_vec = (torch.where(dist<=0, 1.0, 0.0)).double().reshape(1,100)\n",
    "    loss = (-1) * (indi_vec @ dist)\n",
    "    loss_SGD.append(float(loss))\n",
    "    mis_list_SGD.append(int(torch.sum(indi_vec)))\n",
    "    curr_i.append(i)\n",
    "    if torch.all(indi_vec == 0):\n",
    "        print('number of iterations:',iter_count)\n",
    "        break\n",
    "    else:         # instead of taking the first misclassified point, in SGD method we randomly pick one\n",
    "        i = int(np.random.choice(torch.where(indi_vec.squeeze()==1)[0]))   \n",
    "    \n",
    "    grad = ((-1) * y_train[i] * X_train[i]).reshape(3,1)   \n",
    "    w_new = w_SGD - lr * grad\n",
    "    w_SGD = w_new\n",
    "loss_SGD.pop(0)\n",
    "mis_list_SGD.pop(0);"
   ]
  },
  {
   "cell_type": "markdown",
   "id": "50e235aa-e2a4-46b9-b087-2e79b26c3c06",
   "metadata": {},
   "source": [
    "### 1.4 Results"
   ]
  },
  {
   "cell_type": "code",
   "execution_count": 10,
   "id": "2845e911-969b-44d0-940d-e6f76fc71663",
   "metadata": {},
   "outputs": [],
   "source": [
    "x = torch.tensor(list(range(0,15)))\n",
    "x_SUM = (0 - w_SUM[2] - w_SUM[1]*x) / w_SUM[0]\n",
    "x_GD1 = (0 - w_GD1[2] - w_GD1[1]*x) / w_GD1[0]\n",
    "x_SGD = (0 - w_SGD[2] - w_SGD[1]*x) / w_SGD[0]"
   ]
  },
  {
   "cell_type": "code",
   "execution_count": 11,
   "id": "788f0505-aa3e-456e-8a5a-468cc810b5d3",
   "metadata": {},
   "outputs": [
    {
     "data": {
      "text/plain": [
       "Text(0, 0.5, 'y')"
      ]
     },
     "execution_count": 11,
     "metadata": {},
     "output_type": "execute_result"
    },
    {
     "data": {
      "image/png": "[encoded data removed]",
      "text/plain": [
       "<Figure size 432x288 with 1 Axes>"
      ]
     },
     "metadata": {
      "needs_background": "light"
     },
     "output_type": "display_data"
    }
   ],
   "source": [
    "plt.plot(x,x_SUM, label='Sum method')\n",
    "plt.plot(x,x_GD1, color = '#ff7f0e', label='GD1 method')\n",
    "plt.plot(x,x_SGD, color = 'g', label='SGD method')\n",
    "plt.legend(loc='best') \n",
    "plt.scatter(X[y==1][:,1], X[y==1][:,0])\n",
    "plt.scatter(X[y==0][:,1], X[y==0][:,0], color = '#ff7f0e')\n",
    "plt.title('Preliminary experiment')\n",
    "plt.xlabel('x') \n",
    "plt.ylabel('y') "
   ]
  },
  {
   "cell_type": "markdown",
   "id": "655d2817-2b67-471b-93ad-5dbcf500ac50",
   "metadata": {},
   "source": [
    "## 2.  Initialize $w$ with $0$"
   ]
  },
  {
   "cell_type": "code",
   "execution_count": 12,
   "id": "599fa7d1-25a3-4564-a36f-a661d55dce8f",
   "metadata": {},
   "outputs": [],
   "source": [
    "X = dia_data[:,1:].reshape(768,9)\n",
    "y = dia_data[:,0].reshape(768,1)\n",
    "X_train, X_val, X_test = X.split([612,78,78])    # split data into training set, validation set, and test set \n",
    "y_train, y_val, y_test = y.split([612,78,78])    # according to the ratio of 80:10:10"
   ]
  },
  {
   "cell_type": "code",
   "execution_count": 13,
   "id": "9952eabd-19f3-4d11-b4d1-c404c5a81627",
   "metadata": {},
   "outputs": [],
   "source": [
    "lr = 1\n",
    "T = 1000"
   ]
  },
  {
   "cell_type": "markdown",
   "id": "139889c5-aed3-4281-b621-a14dde1772a1",
   "metadata": {},
   "source": [
    "### 2.1  Sum Method"
   ]
  },
  {
   "cell_type": "code",
   "execution_count": 14,
   "id": "7561be23-15fa-4d4e-9ceb-8b26c67dd1c1",
   "metadata": {},
   "outputs": [],
   "source": [
    "w = torch.zeros(9).reshape(9,1)\n",
    "loss_SUM = []\n",
    "mis_list_SUM = []\n",
    "w_SUM_list = []\n",
    "for i in range(T):\n",
    "    dist = (y_train * (X_train @ w)).reshape(612,1)      \n",
    "    indi_vec = (torch.where(dist<=0, 1.0, 0.0)).reshape(1,612)\n",
    "    loss = (-1) * (indi_vec @ dist)\n",
    "    grad = ((-1) * (indi_vec @ (y_train * X_train))).reshape(9,1)  \n",
    "    loss_SUM.append(float(loss))\n",
    "    mis_list_SUM.append(int(torch.sum(indi_vec)))\n",
    "    w_new = w - lr * grad\n",
    "    if torch.all(w == w_new):\n",
    "        break\n",
    "    w = w_new\n",
    "    w_SUM_list.append(w)\n",
    "loss_SUM.pop(0)\n",
    "mis_list_SUM.pop(0);"
   ]
  },
  {
   "cell_type": "markdown",
   "id": "4de0abce-74f2-49a5-8fb5-a665cbf39d46",
   "metadata": {},
   "source": [
    "### 2.2 GD1 Method"
   ]
  },
  {
   "cell_type": "code",
   "execution_count": 15,
   "id": "5b3a77a3-14fe-4045-a45b-68e0b72c92e9",
   "metadata": {},
   "outputs": [],
   "source": [
    "w = torch.zeros(9).reshape(9,1)\n",
    "loss_GD1 = []\n",
    "mis_list_GD1 = []\n",
    "curr_i = []             # list of the current misclassified point that to be optimised\n",
    "w_GD1_list = []\n",
    "iter_count = 0\n",
    "for i in range(T):\n",
    "    iter_count += 1\n",
    "    dist = (y_train * (X_train @ w)).reshape(612,1)     \n",
    "    indi_vec = (torch.where(dist<=0, 1.0, 0.0)).reshape(1,612)\n",
    "    loss = (-1) * (indi_vec @ dist)\n",
    "    loss_GD1.append(float(loss))\n",
    "    mis_list_GD1.append(int(torch.sum(indi_vec)))    \n",
    "    if torch.all(indi_vec == 0):\n",
    "        print('number of iterations:',iter_count)\n",
    "        break\n",
    "    else:\n",
    "        i = int(torch.where(indi_vec.squeeze()==1)[0][0])\n",
    "        curr_i.append(i)\n",
    "\n",
    "    grad = ((-1) * y_train[i] * X_train[i]).reshape(9,1)       \n",
    "    w_new = w - lr * grad\n",
    "    w = w_new\n",
    "    w_GD1_list.append(w)\n",
    "loss_GD1.pop(0)\n",
    "mis_list_GD1.pop(0);"
   ]
  },
  {
   "cell_type": "markdown",
   "id": "ae947335-65e3-4ef9-9df4-e1f37125769d",
   "metadata": {},
   "source": [
    "### 2.3  SGD Method"
   ]
  },
  {
   "cell_type": "code",
   "execution_count": 16,
   "id": "7e8d3ff3-0706-4f52-87a4-ff001ecc36d9",
   "metadata": {},
   "outputs": [],
   "source": [
    "w = torch.zeros(9).reshape(9,1)\n",
    "loss_SGD = []\n",
    "mis_list_SGD = []\n",
    "curr_i = []\n",
    "w_SGD_list = []\n",
    "iter_count = 0\n",
    "for i in range(T):\n",
    "    iter_count += 1\n",
    "    dist = (y_train * (X_train @ w)).reshape(612,1)     \n",
    "    indi_vec = (torch.where(dist<=0, 1.0, 0.0)).reshape(1,612)\n",
    "    loss = (-1) * (indi_vec @ dist)\n",
    "    loss_SGD.append(float(loss))\n",
    "    mis_list_SGD.append(int(torch.sum(indi_vec)))    \n",
    "    if torch.all(indi_vec == 0):\n",
    "        print('number of iterations:',iter_count)\n",
    "        break\n",
    "    else:\n",
    "        i = int(np.random.choice(torch.where(indi_vec.squeeze()==1)[0]))\n",
    "        curr_i.append(i)\n",
    "  \n",
    "    grad = ((-1) * y_train[i] * X_train[i]).reshape(9,1)   \n",
    "    w_new = w - lr * grad\n",
    "    w = w_new\n",
    "    w_SGD_list.append(w)\n",
    "loss_SGD.pop(0)\n",
    "mis_list_SGD.pop(0);"
   ]
  },
  {
   "cell_type": "markdown",
   "id": "43ab73f3-ca58-4dd4-8589-0f92d5962242",
   "metadata": {},
   "source": [
    "### 2.4  Results"
   ]
  },
  {
   "cell_type": "code",
   "execution_count": 17,
   "id": "657504ba-a294-4be0-858c-d343822b0d6d",
   "metadata": {},
   "outputs": [
    {
     "data": {
      "text/plain": [
       "Text(0.5, 0, 'Iteration')"
      ]
     },
     "execution_count": 17,
     "metadata": {},
     "output_type": "execute_result"
    },
    {
     "data": {
      "image/png": "[encoded data removed]",
      "text/plain": [
       "<Figure size 864x576 with 6 Axes>"
      ]
     },
     "metadata": {
      "needs_background": "light"
     },
     "output_type": "display_data"
    }
   ],
   "source": [
    "fig, plots = plt.subplots(2,3,figsize=(12,8))\n",
    "plots[0,0].plot(loss_SUM)\n",
    "plots[0,0].set_title('Sum method')\n",
    "plots[0,0].set_xlabel('Iteration')                                    \n",
    "plots[0,0].set_ylabel('Loss')\n",
    "\n",
    "plots[1,0].plot(mis_list_SUM, color = '#ff7f0e')\n",
    "plots[1,0].set_xlabel('Iteration')\n",
    "plots[1,0].set_ylabel('Num of misclassified points')\n",
    "\n",
    "plots[0,1].plot(loss_GD1)\n",
    "plots[0,1].set_title('GD1 method') \n",
    "plots[0,1].set_xlabel('Iteration')\n",
    "\n",
    "plots[1,1].plot(mis_list_GD1, color = '#ff7f0e')\n",
    "plots[1,1].set_xlabel('Iteration')\n",
    "\n",
    "plots[0,2].plot(loss_SGD)\n",
    "plots[0,2].set_title('SGD method')\n",
    "plots[0,2].set_xlabel('Iteration')\n",
    "\n",
    "plots[1,2].plot(mis_list_SGD, color = '#ff7f0e')\n",
    "plots[1,2].set_xlabel('Iteration')"
   ]
  },
  {
   "cell_type": "code",
   "execution_count": 18,
   "id": "bc948b1c-8cb2-444c-8fd7-186b47114661",
   "metadata": {},
   "outputs": [],
   "source": [
    "def find_best(w_list):      # a function that can iteratively find the best w for each method\n",
    "    correct_num = 0\n",
    "    for w in w_list:\n",
    "        res = X_val @ w                        # predict\n",
    "        res[res<0] = -1                        # if res<0, than assign -1 to it\n",
    "        res[res>0] = 1                         # otherwise 1\n",
    "        true_count = torch.sum(res==y_val)     # compare with y_val, if res==y_val, than it is a True. Count the num of True\n",
    "        if true_count>correct_num:             # if true_count is better than the previous ones\n",
    "            correct_num = true_count           # then update\n",
    "            best_w = w\n",
    "    return best_w, correct_num"
   ]
  },
  {
   "cell_type": "code",
   "execution_count": 19,
   "id": "73330672-1c8b-423d-87ff-e1bd53dd2fe6",
   "metadata": {},
   "outputs": [
    {
     "name": "stdout",
     "output_type": "stream",
     "text": [
      "On the validation set:\n",
      "The number of correctly classified points by the best w of Sum is 58, accuracy is 0.7435897435897436\n",
      "The number of correctly classified points by the best w of GD1 is 59, accuracy is 0.7564102564102564\n",
      "The number of correctly classified points by the best w of SGD is 59, accuracy is 0.7564102564102564\n"
     ]
    }
   ],
   "source": [
    "model_list = [w_SUM_list, w_GD1_list, w_SGD_list]\n",
    "best_w_list = []\n",
    "corr_num_list = []\n",
    "for model in model_list:\n",
    "    w, corr_num = find_best(model)\n",
    "    best_w_list.append(w)\n",
    "    corr_num_list.append(corr_num)\n",
    "print('On the validation set:')\n",
    "print('The number of correctly classified points by the best w of Sum is {}, accuracy is {}'.format(int(corr_num_list[0]), int(corr_num_list[0])/78))\n",
    "print('The number of correctly classified points by the best w of GD1 is {}, accuracy is {}'.format(int(corr_num_list[1]), int(corr_num_list[1])/78))\n",
    "print('The number of correctly classified points by the best w of SGD is {}, accuracy is {}'.format(int(corr_num_list[1]), int(corr_num_list[1])/78))"
   ]
  },
  {
   "cell_type": "code",
   "execution_count": 20,
   "id": "ccd4bf9d-c81a-4f3b-bd84-ea394b9ff9dc",
   "metadata": {},
   "outputs": [
    {
     "name": "stdout",
     "output_type": "stream",
     "text": [
      "On the test set:\n",
      "The number of correctly classified points by the best w of Sum is 48, accuracy is 0.6153846153846154\n",
      "The number of correctly classified points by the best w of GD1 is 54, accuracy is 0.6923076923076923\n",
      "The number of correctly classified points by the best w of SGD is 54, accuracy is 0.6923076923076923\n"
     ]
    }
   ],
   "source": [
    "res_list = []\n",
    "for best in best_w_list:    # text each w on the test set\n",
    "    res = X_test @ best\n",
    "    res[res<0] = -1\n",
    "    res[res>0] = 1\n",
    "    true_Sum = torch.sum(res==y_test)\n",
    "    res_list.append(true_Sum)\n",
    "print('On the test set:')\n",
    "print('The number of correctly classified points by the best w of Sum is {}, accuracy is {}'.format(int(res_list[0]), int(res_list[0])/78))\n",
    "print('The number of correctly classified points by the best w of GD1 is {}, accuracy is {}'.format(int(res_list[1]), int(res_list[1])/78))\n",
    "print('The number of correctly classified points by the best w of SGD is {}, accuracy is {}'.format(int(res_list[1]), int(res_list[1])/78))"
   ]
  },
  {
   "cell_type": "markdown",
   "id": "d7dabec4-f131-4c28-98be-5f3052f10da6",
   "metadata": {},
   "source": [
    "## 3.  Initialize $w$ with pre-trained $w$"
   ]
  },
  {
   "cell_type": "code",
   "execution_count": 21,
   "id": "61de0a17-29fd-4184-98f7-400cdf5f0160",
   "metadata": {},
   "outputs": [],
   "source": [
    "X = dia_data[:,1:].reshape(768,9)\n",
    "y = dia_data[:,0].reshape(768,1)\n",
    "X_train, X_val, X_test = X.split([612,78,78])    # split data into training set, validation set, and test set \n",
    "y_train, y_val, y_test = y.split([612,78,78])    # according to the ratio of 80:10:10"
   ]
  },
  {
   "cell_type": "code",
   "execution_count": 22,
   "id": "5826bada-9a67-4467-88c6-9fd50b43a7aa",
   "metadata": {},
   "outputs": [],
   "source": [
    "lr = 1\n",
    "T = 100000"
   ]
  },
  {
   "cell_type": "markdown",
   "id": "9f2679ec-8df9-426e-9eee-c5e368b2655c",
   "metadata": {},
   "source": [
    "### 3.1  Sum Method"
   ]
  },
  {
   "cell_type": "code",
   "execution_count": 23,
   "id": "2a10c2b4-49ae-46a0-819d-4ea3f95132dc",
   "metadata": {},
   "outputs": [],
   "source": [
    "w = torch.zeros(9).reshape(9,1)\n",
    "loss_SUM = []\n",
    "mis_list_SUM = []\n",
    "w_SUM_list = []\n",
    "for i in range(T):\n",
    "    dist = (y_train * (X_train @ w)).reshape(612,1)      \n",
    "    indi_vec = (torch.where(dist<=0, 1.0, 0.0)).reshape(1,612)\n",
    "    loss = (-1) * (indi_vec @ dist)\n",
    "    grad = ((-1) * (indi_vec @ (y_train * X_train))).reshape(9,1)  \n",
    "    loss_SUM.append(float(loss))\n",
    "    mis_list_SUM.append(int(torch.sum(indi_vec)))\n",
    "    w_new = w - lr * grad\n",
    "    if torch.all(w == w_new):\n",
    "        break\n",
    "    w = w_new\n",
    "    w_SUM_list.append(w)\n",
    "loss_SUM.pop(0)\n",
    "mis_list_SUM.pop(0);"
   ]
  },
  {
   "cell_type": "markdown",
   "id": "ea3e1967-a87f-4ea2-b9d0-46bac389a73d",
   "metadata": {},
   "source": [
    "### 3.2 GD1 Method"
   ]
  },
  {
   "cell_type": "code",
   "execution_count": 24,
   "id": "e00d2757-c3d2-4316-9384-66fb3fbefd00",
   "metadata": {},
   "outputs": [],
   "source": [
    "#w = torch.zeros(9).reshape(9,1)\n",
    "loss_GD1 = []\n",
    "mis_list_GD1 = []\n",
    "curr_i = []             # list of the current misclassified point that to be optimised\n",
    "w_GD1_list = []\n",
    "iter_count = 0\n",
    "for i in range(T):\n",
    "    iter_count += 1\n",
    "    dist = (y_train * (X_train @ w)).reshape(612,1)     \n",
    "    indi_vec = (torch.where(dist<=0, 1.0, 0.0)).reshape(1,612)\n",
    "    loss = (-1) * (indi_vec @ dist)\n",
    "    loss_GD1.append(float(loss))\n",
    "    mis_list_GD1.append(int(torch.sum(indi_vec)))    \n",
    "    if torch.all(indi_vec == 0):\n",
    "        print('number of iterations:',iter_count)\n",
    "        break\n",
    "    else:\n",
    "        i = int(torch.where(indi_vec.squeeze()==1)[0][0])\n",
    "        curr_i.append(i)\n",
    "\n",
    "    grad = ((-1) * y_train[i] * X_train[i]).reshape(9,1)       \n",
    "    w_new = w - lr * grad\n",
    "    w = w_new\n",
    "    w_GD1_list.append(w)\n",
    "loss_GD1.pop(0)\n",
    "mis_list_GD1.pop(0);"
   ]
  },
  {
   "cell_type": "markdown",
   "id": "1c94a7da-d2be-435a-8f6f-67d0e07636ca",
   "metadata": {},
   "source": [
    "### 3.3  SGD Method"
   ]
  },
  {
   "cell_type": "code",
   "execution_count": 25,
   "id": "89f26fb0-48e7-4a4f-9e13-a78939823c97",
   "metadata": {},
   "outputs": [],
   "source": [
    "#w = torch.zeros(9).reshape(9,1)\n",
    "loss_SGD = []\n",
    "mis_list_SGD = []\n",
    "curr_i = []\n",
    "w_SGD_list = []\n",
    "iter_count = 0\n",
    "for i in range(T):\n",
    "    iter_count += 1\n",
    "    dist = (y_train * (X_train @ w)).reshape(612,1)     \n",
    "    indi_vec = (torch.where(dist<=0, 1.0, 0.0)).reshape(1,612)\n",
    "    loss = (-1) * (indi_vec @ dist)\n",
    "    loss_SGD.append(float(loss))\n",
    "    mis_list_SGD.append(int(torch.sum(indi_vec)))    \n",
    "    if torch.all(indi_vec == 0):\n",
    "        print('number of iterations:',iter_count)\n",
    "        break\n",
    "    else:\n",
    "        i = int(np.random.choice(torch.where(indi_vec.squeeze()==1)[0]))\n",
    "        curr_i.append(i)\n",
    "  \n",
    "    grad = ((-1) * y_train[i] * X_train[i]).reshape(9,1)   \n",
    "    w_new = w - lr * grad\n",
    "    w = w_new\n",
    "    w_SGD_list.append(w)\n",
    "loss_SGD.pop(0)\n",
    "mis_list_SGD.pop(0);"
   ]
  },
  {
   "cell_type": "markdown",
   "id": "a9456861-a7ff-4a80-a619-83cb49fb5ad6",
   "metadata": {},
   "source": [
    "### 3.4  Results"
   ]
  },
  {
   "cell_type": "code",
   "execution_count": 26,
   "id": "bacbc1cf-db9a-4eb4-93ef-a52ce158d818",
   "metadata": {},
   "outputs": [
    {
     "data": {
      "text/plain": [
       "Text(0.5, 0, 'Iteration')"
      ]
     },
     "execution_count": 26,
     "metadata": {},
     "output_type": "execute_result"
    },
    {
     "data": {
      "image/png": "[encoded data removed]",
      "text/plain": [
       "<Figure size 864x576 with 6 Axes>"
      ]
     },
     "metadata": {
      "needs_background": "light"
     },
     "output_type": "display_data"
    }
   ],
   "source": [
    "fig, plots = plt.subplots(2,3,figsize=(12,8))\n",
    "plots[0,0].plot(loss_SUM)\n",
    "plots[0,0].set_title('Sum method')\n",
    "plots[0,0].set_xlabel('Iteration')                                    \n",
    "plots[0,0].set_ylabel('Loss')\n",
    "\n",
    "plots[1,0].plot(mis_list_SUM, color = '#ff7f0e')\n",
    "plots[1,0].set_xlabel('Iteration')\n",
    "plots[1,0].set_ylabel('Num of misclassified points')\n",
    "\n",
    "plots[0,1].plot(loss_GD1)\n",
    "plots[0,1].set_title('GD1 method') \n",
    "plots[0,1].set_xlabel('Iteration')\n",
    "\n",
    "plots[1,1].plot(mis_list_GD1, color = '#ff7f0e')\n",
    "plots[1,1].set_xlabel('Iteration')\n",
    "\n",
    "plots[0,2].plot(loss_SGD)\n",
    "plots[0,2].set_title('SGD method')\n",
    "plots[0,2].set_xlabel('Iteration')\n",
    "\n",
    "plots[1,2].plot(mis_list_SGD, color = '#ff7f0e')\n",
    "plots[1,2].set_xlabel('Iteration')"
   ]
  },
  {
   "cell_type": "code",
   "execution_count": 27,
   "id": "287db0e8-7f7f-4168-a0f4-0387494fc7ba",
   "metadata": {},
   "outputs": [],
   "source": [
    "def find_best(w_list):      # a function that can iteratively find the best w for each method\n",
    "    correct_num = 0\n",
    "    for w in w_list:\n",
    "        res = X_val @ w                        # predict\n",
    "        res[res<0] = -1                        # if res<0, than assign -1 to it\n",
    "        res[res>0] = 1                         # otherwise 1\n",
    "        true_count = torch.sum(res==y_val)     # compare with y_val, if res==y_val, than it is a True. Count the num of True\n",
    "        if true_count>correct_num:             # if true_count is better than the previous ones\n",
    "            correct_num = true_count           # then update\n",
    "            best_w = w\n",
    "    return best_w, correct_num"
   ]
  },
  {
   "cell_type": "code",
   "execution_count": 28,
   "id": "72b458fb-de76-4a39-8381-763044bf0d5e",
   "metadata": {},
   "outputs": [
    {
     "name": "stdout",
     "output_type": "stream",
     "text": [
      "On the validation set:\n",
      "The number of correctly classified points by the best w of Sum is 60, accuracy is 0.7692307692307693\n",
      "The number of correctly classified points by the best w of GD1 is 64, accuracy is 0.8205128205128205\n",
      "The number of correctly classified points by the best w of SGD is 64, accuracy is 0.8205128205128205\n"
     ]
    }
   ],
   "source": [
    "model_list = [w_SUM_list, w_GD1_list, w_SGD_list]\n",
    "best_w_list = []\n",
    "corr_num_list = []\n",
    "for model in model_list:\n",
    "    w, corr_num = find_best(model)\n",
    "    best_w_list.append(w)\n",
    "    corr_num_list.append(corr_num)\n",
    "print('On the validation set:')\n",
    "print('The number of correctly classified points by the best w of Sum is {}, accuracy is {}'.format(int(corr_num_list[0]), int(corr_num_list[0])/78))\n",
    "print('The number of correctly classified points by the best w of GD1 is {}, accuracy is {}'.format(int(corr_num_list[1]), int(corr_num_list[1])/78))\n",
    "print('The number of correctly classified points by the best w of SGD is {}, accuracy is {}'.format(int(corr_num_list[1]), int(corr_num_list[1])/78))"
   ]
  },
  {
   "cell_type": "code",
   "execution_count": 29,
   "id": "96d66921-7c3b-47c3-b375-4eecc3c60f3f",
   "metadata": {},
   "outputs": [
    {
     "name": "stdout",
     "output_type": "stream",
     "text": [
      "On the test set:\n",
      "The number of correctly classified points by the best w of Sum is 55, accuracy is 0.7051282051282052\n",
      "The number of correctly classified points by the best w of GD1 is 53, accuracy is 0.6794871794871795\n",
      "The number of correctly classified points by the best w of SGD is 53, accuracy is 0.6794871794871795\n"
     ]
    }
   ],
   "source": [
    "res_list = []\n",
    "for best in best_w_list:    # text each w on the test set\n",
    "    res = X_test @ best\n",
    "    res[res<0] = -1\n",
    "    res[res>0] = 1\n",
    "    true_Sum = torch.sum(res==y_test)\n",
    "    res_list.append(true_Sum)\n",
    "print('On the test set:')\n",
    "print('The number of correctly classified points by the best w of Sum is {}, accuracy is {}'.format(int(res_list[0]), int(res_list[0])/78))\n",
    "print('The number of correctly classified points by the best w of GD1 is {}, accuracy is {}'.format(int(res_list[1]), int(res_list[1])/78))\n",
    "print('The number of correctly classified points by the best w of SGD is {}, accuracy is {}'.format(int(res_list[1]), int(res_list[1])/78))"
   ]
  },
  {
   "cell_type": "markdown",
   "id": "860042eb-8909-4b74-90de-4ab0d30e3c82",
   "metadata": {},
   "source": [
    "***\n",
    "CHEN Chen 29-Sep-2022"
   ]
  }
 ],
 "metadata": {
  "kernelspec": {
   "display_name": "Python 3 (ipykernel)",
   "language": "python",
   "name": "python3"
  },
  "language_info": {
   "codemirror_mode": {
    "name": "ipython",
    "version": 3
   },
   "file_extension": ".py",
   "mimetype": "text/x-python",
   "name": "python",
   "nbconvert_exporter": "python",
   "pygments_lexer": "ipython3",
   "version": "3.8.10"
  }
 },
 "nbformat": 4,
 "nbformat_minor": 5
}
